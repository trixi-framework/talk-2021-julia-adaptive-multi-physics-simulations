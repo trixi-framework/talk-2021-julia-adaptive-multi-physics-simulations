{
 "cells": [
  {
   "cell_type": "markdown",
   "metadata": {
    "slideshow": {
     "slide_type": "slide"
    }
   },
   "source": [
    "# Getting started with Julia and Trixi.jl"
   ]
  },
  {
   "cell_type": "markdown",
   "metadata": {},
   "source": [
    "[Trixi.jl](https://github.com/trixi-framework/Trixi.jl) is a numerical simulation framework for hyperbolic conservation laws written in [Julia](https://julialang.org). A key objective for the framework is to be useful to both scientists and students. Therefore, next to having an extensible design with a fast implementation, Trixi is focused on being easy to use for new or inexperienced users, including the installation and postprocessing procedures.\n",
    "\n",
    "The primary goal of this notebook is give a live demonstration of Julia and Trixi during a talk given at the Numerical Analysis Seminar at Lund University in January 2021. Here, we will show how to use Trixi for setting up and running simulations, how to visualize the results, and how to extend Trixi with new functionality. The notebook and a description of how to run it with Jupyter are available at https://github.com/trixi-framework/talk-2021-julia-adaptive-multi-physics-simulations. For more information about Trixi and how to use it, please visit Trixi on [GitHub](https://github.com/trixi-framework/Trixi.jl) or refer to the [official documentation](https://trixi-framework.github.io/Trixi.jl/stable/).\n",
    "\n",
    "*Note:* If you change a variable in a later cell and then re-execute an earlier cell, the results might change unexpectedly. Thus if in doubt, re-run the entire notebook *in order*. The reason is that all cells in a Jupyter notebooks share a common variable space. \n",
    "\n",
    "**NOTE: This repository will be updated several times prior to the talk, with the final version of the notebook to be uploaded at least one day before.**"
   ]
  },
  {
   "cell_type": "markdown",
   "metadata": {},
   "source": [
    "**Table of contents**\n",
    "1. [Quickstart](#Quickstart)\n",
    "2. [Mixing an elixir: creating a Trixi simulation from scratch](#Mixing-an-elixir:-creating-a-Trixi-simulation-from-scratch)\n",
    "   1. [The basics](#The-basics)\n",
    "   2. [Using a different initial condition](#Using-a-different-initial-condition)\n",
    "   3. [Adaptive mesh refinement](#Adaptive-mesh-refinement)\n",
    "   4. [In-situ visualization](#In-situ-visualization)\n",
    "3. [Advanced usage](#Advanced-usage)\n",
    "   1. [Analyzing the solution](#Analyzing-the-solution)\n",
    "   2. [Running convergence tests](#Running-convergence-tests)\n",
    "   3. [Visualizing the spectrum](#Visualizing-the-spectrum)\n",
    "   4. [Postprocessing with Trixi2Vtk and ParaView](#Postprocessing-with-Trixi2Vtk-and-ParaView)"
   ]
  },
  {
   "cell_type": "markdown",
   "metadata": {},
   "source": [
    "## Quickstart"
   ]
  },
  {
   "cell_type": "markdown",
   "metadata": {},
   "source": [
    "To quickly get up and running with Trixi, load the package (only required once) and start an example 2D simulation with the following commands (to execute a Jupyter cell, select it and hit `Ctrl-Enter`):"
   ]
  },
  {
   "cell_type": "code",
   "execution_count": null,
   "metadata": {
    "scrolled": true
   },
   "outputs": [],
   "source": [
    "using Trixi\n",
    "\n",
    "trixi_include(default_example())"
   ]
  },
  {
   "cell_type": "markdown",
   "metadata": {},
   "source": [
    "`trixi_include(...)` is a function that loads a Julia file and executes its contents. We call such files that contain a valid Trixi setup **elixirs**. `default_example()` is part of the Trixi package and returns the path to an example elixir for running a 2D linear advection simulation.\n",
    "\n",
    "**Please note that during the first invocation this may take a minute or two, since Julia has to compile all functions at first usage.**\n",
    "\n",
    "The results of a Trixi simulation can easily be visualized with the [Plots](https://github.com/JuliaPlots/Plots.jl) package. Simply load `Plots` and call the `plot(...)` command with the argument `sol`. By convention, in all our elixirs `sol` (short for *solution*) is the variable name that contains the result of a simulation."
   ]
  },
  {
   "cell_type": "code",
   "execution_count": null,
   "metadata": {},
   "outputs": [],
   "source": [
    "using Plots\n",
    "\n",
    "plot(sol)"
   ]
  },
  {
   "cell_type": "markdown",
   "metadata": {
    "slideshow": {
     "slide_type": "slide"
    }
   },
   "source": [
    "## Mixing an elixir: creating a Trixi simulation from scratch"
   ]
  },
  {
   "cell_type": "markdown",
   "metadata": {
    "slideshow": {
     "slide_type": "slide"
    }
   },
   "source": [
    "In this section, we will see how one can combine the individual components that make up Trixi into a full simulation setup that can be executed."
   ]
  },
  {
   "cell_type": "markdown",
   "metadata": {
    "slideshow": {
     "slide_type": "slide"
    }
   },
   "source": [
    "### The basics"
   ]
  },
  {
   "cell_type": "markdown",
   "metadata": {
    "slideshow": {
     "slide_type": "slide"
    }
   },
   "source": [
    "Let's have a look at what an elixir looks like. Generally speaking, the following components are required:\n",
    "* an **equation** object that contains all physics-specific data and functionality\n",
    "* a **solver** that represents the numerical method and its algorithms\n",
    "* a **mesh** that holds the grid data\n",
    "* a **semidiscretization** that encapsulates equation, solver, and mesh, together with initial and boundary conditions\n",
    "\n",
    "The semidiscretization object is then used to create an `ODEProblem` that can be solved with one of the solvers for ordinary differential equations (ODEs) from the [OrdinaryDiffEq](https://github.com/SciML/OrdinaryDiffEq.jl) package.\n",
    "\n",
    "In the following are the contents of a *minimum* elixir that produces the same result as the `trixi_include(...)` command above (the elixir can be found in [examples/elixir_advection_simple.jl](examples/elixir_advection_simple.jl)):"
   ]
  },
  {
   "cell_type": "code",
   "execution_count": null,
   "metadata": {},
   "outputs": [],
   "source": [
    "# Load necessary packages\n",
    "using OrdinaryDiffEq\n",
    "using Trixi\n",
    "\n",
    "# Create equations\n",
    "advectionvelocity = (1.0, 1.0)\n",
    "equations = LinearScalarAdvectionEquation2D(advectionvelocity)\n",
    "\n",
    "# Create DGSEM solver for polynomial degree = 3\n",
    "solver = DGSEM(3, flux_lax_friedrichs)\n",
    "\n",
    "# Create a uniformely refined mesh with periodic boundaries\n",
    "coordinates_min = (-1, -1) # minimum coordinates\n",
    "coordinates_max = ( 1,  1) # maximum coordinates\n",
    "mesh_static = TreeMesh(coordinates_min, coordinates_max,\n",
    "                       initial_refinement_level=4,\n",
    "                       n_cells_max=30_000)\n",
    "\n",
    "# Create semidiscretization with all spatial discretization-related components\n",
    "semi = SemidiscretizationHyperbolic(mesh_static, equations,\n",
    "                                    initial_condition_convergence_test,\n",
    "                                    solver)\n",
    "\n",
    "# Create ODE problem from semidiscretization with time span from 0.0 to 1.0\n",
    "ode = semidiscretize(semi, (0.0, 1.0));\n",
    "\n",
    "# Evolve ODE problem in time using OrdinaryDiffEq's `solve` method\n",
    "sol = solve(ode, CarpenterKennedy2N54(williamson_condition=false), dt=2.5e-2);"
   ]
  },
  {
   "cell_type": "markdown",
   "metadata": {},
   "source": [
    "And that's it. In this minimum example, there is no output to the terminal/notebook, thus only the lack of errors tells us that everything went smoothly. However, as before, we can visualize the solution by plotting it with the `plot` function of the `Plots` package:"
   ]
  },
  {
   "cell_type": "code",
   "execution_count": null,
   "metadata": {},
   "outputs": [],
   "source": [
    "using Plots\n",
    "\n",
    "plot(sol)"
   ]
  },
  {
   "cell_type": "markdown",
   "metadata": {},
   "source": [
    "As you can see from the snippet above, the entirety of a simulation setup is defined in pure Julia: There are no \"special\" parameter files, and changing a simulation setup means to modify its elixir. For example, we can change the advection speeds by passing a different velocity vector to `LinearScalarAdvectionEquation2D`,\n",
    "\n",
    "```julia\n",
    "# Create equations with different advection velocity\n",
    "advectionvelocity = (1.0, 0.1)\n",
    "equations = LinearScalarAdvectionEquation2D(advectionvelocity);\n",
    "```\n",
    "\n",
    "and re-run the simulation by re-creating the semidiscretization and the `ODEProblem`, and then calling the `solve(...)` function again."
   ]
  },
  {
   "cell_type": "markdown",
   "metadata": {},
   "source": [
    "### Using a different initial condition"
   ]
  },
  {
   "cell_type": "markdown",
   "metadata": {},
   "source": [
    "So far we have only used functionality that is provided by Trixi. With its modular architecture, however, it is easy to extend Trixi with your own features. Let's define a new initial condition with a cosine-shaped pulse at its center:"
   ]
  },
  {
   "cell_type": "code",
   "execution_count": null,
   "metadata": {},
   "outputs": [],
   "source": [
    "function cosine_pulse(x, t, equations::LinearScalarAdvectionEquation2D)\n",
    "  halfwidth = 0.5\n",
    "  radius = sqrt(x[1]^2 + x[2]^2)\n",
    "\n",
    "  if radius > halfwidth\n",
    "    u = 0.0\n",
    "  else\n",
    "    u = 0.1 + 0.1 * cos(pi * radius / halfwidth)\n",
    "  end\n",
    "\n",
    "  return Trixi.@SVector [u]\n",
    "end"
   ]
  },
  {
   "cell_type": "markdown",
   "metadata": {},
   "source": [
    "Now we can use this function for the initial condition parameter in the semidiscretization, re-run the simulation, and plot the results:"
   ]
  },
  {
   "cell_type": "code",
   "execution_count": null,
   "metadata": {},
   "outputs": [],
   "source": [
    "# Recreate semidiscretization with the new initial condition\n",
    "semi = SemidiscretizationHyperbolic(mesh_static, equations,\n",
    "                                    cosine_pulse, # <-- here is the new initialization function\n",
    "                                    solver)\n",
    "\n",
    "# Create and solve ODE problem\n",
    "ode = semidiscretize(semi, (0.0, 1.7));\n",
    "sol = solve(ode, CarpenterKennedy2N54(williamson_condition=false), dt=2.5e-2);\n",
    "\n",
    "# Plot result\n",
    "plot(sol)"
   ]
  },
  {
   "cell_type": "markdown",
   "metadata": {},
   "source": [
    "### Adaptive mesh refinement"
   ]
  },
  {
   "cell_type": "markdown",
   "metadata": {},
   "source": [
    "In the previous examples, we have always used a static, uniform mesh. This means we did not fully exploit one of Trixi's fundamental building blocks: the underlying hierarchical Cartesian mesh. With its ability to locally refine the mesh in a solution-adaptive way, it can be used to greatly speed up simulations with no or minimal loss in overall accuracy. The following image series of the grid for an expanding blast wave simulation ([elixir](https://github.com/trixi-framework/Trixi.jl/blob/v0.3.7/examples/2d/elixir_euler_blast_wave_amr.jl) available with Trixi) at $t = [0.2, 0.6, 1.0]$ (left to right) illustrates how the mesh resolution is increased only where needed."
   ]
  },
  {
   "attachments": {
    "1f20be7c-e949-410f-b11a-ea4e37a3b2b5.png": {
     "image/png": "[encoded data removed]"
    }
   },
   "cell_type": "markdown",
   "metadata": {},
   "source": [
    "<div align=\"center\">\n",
    "  <img src=\"attachment:1f20be7c-e949-410f-b11a-ea4e37a3b2b5.png\" width=\"50%\" />\n",
    "</div>"
   ]
  },
  {
   "cell_type": "markdown",
   "metadata": {},
   "source": [
    "With Trixi, you can statically refine the mesh upfront, adaptively refine it during a simulation, or use a combination of both. Here, we will focus on how to do adaptive mesh refinement (AMR), which is implemented in Trixi as a **step callback**. A callback is an algorithmic entity that is registered with the ODE solver and then *called* in regular intervals to perform certain tasks: *step* callbacks are run after each time step, while *stage* callbacks are run after each stage of the ODE solver.\n",
    "\n",
    "Using callbacks instead of hard-coding all features in the main loop has the advantage that it allows to extend Trixi with new functionality without having to modify its code directly. Beyond AMR, in Trixi we make use of callbacks also for tasks such as solution analysis, file I/O, in-situ visualization, or time step size calculation.\n",
    "\n",
    "Building upon the previous example, we will now introduce the `AMRCallback` to adaptively refine the mesh around the cosine pulse every 5 steps. The callback also requires the definition of an *AMR controller*, i.e., an object that tells the AMR algorithms which cells to refine/coarsen:"
   ]
  },
  {
   "cell_type": "code",
   "execution_count": null,
   "metadata": {},
   "outputs": [],
   "source": [
    "# Use a simple AMR controller that to refine cells between level 4 and level 6, based on the maximum value of the solution in an element\n",
    "amr_controller = ControllerThreeLevel(semi,\n",
    "                                      IndicatorMax(semi, variable=first),\n",
    "                                      base_level=4,\n",
    "                                      med_level=5, med_threshold=0.05,\n",
    "                                      max_level=6, max_threshold=0.15);\n",
    "\n",
    "# Create the AMR callback that will be called every 5 time steps\n",
    "amr_callback = AMRCallback(semi, amr_controller,\n",
    "                           interval=5);"
   ]
  },
  {
   "cell_type": "markdown",
   "metadata": {},
   "source": [
    "The `AMRCallback` can now be passed to the ODE solver and will be invoked (i.e., performs adaptive mesh refinement) every 5 time steps. Note that we also create a new mesh with a lower initial refinement, since by default the `AMRCallback` will iteratively refine the initial mesh based on the AMR controller until it does not change anymore."
   ]
  },
  {
   "cell_type": "code",
   "execution_count": null,
   "metadata": {},
   "outputs": [],
   "source": [
    "# Create new mesh and semidiscretization with lower initial refinement level\n",
    "mesh_amr = TreeMesh(coordinates_min, coordinates_max,\n",
    "                    initial_refinement_level=2,\n",
    "                    n_cells_max=30_000)\n",
    "semi = SemidiscretizationHyperbolic(mesh_amr, equations,\n",
    "                                    cosine_pulse,\n",
    "                                    solver)\n",
    "\n",
    "# Create and solve ODE problem, using the previously constructed AMR callback\n",
    "ode = semidiscretize(semi, (0.0, 1.7));\n",
    "sol = solve(ode, CarpenterKennedy2N54(williamson_condition=false), callback=amr_callback, dt=6.25e-3);\n",
    "\n",
    "# Plot result\n",
    "pd = PlotData2D(sol)\n",
    "plot(pd, seriescolor=:heat)\n",
    "plot!(getmesh(pd))"
   ]
  },
  {
   "cell_type": "markdown",
   "metadata": {},
   "source": [
    "Here we also changed the color scheme and added the mesh lines to the plot to demonstrate how the mesh is locally refined around the cosine pulse. To find out more about how to visualize solutions with the `Plots` package, please refer to the [Trixi documentation](https://trixi-framework.github.io/Trixi.jl/stable/visualization/#Plots.jl)."
   ]
  },
  {
   "cell_type": "markdown",
   "metadata": {},
   "source": [
    "### In-situ visualization"
   ]
  },
  {
   "cell_type": "markdown",
   "metadata": {},
   "source": [
    "Another feature that is implemented in Trixi via callbacks is the ability to plot the solution during a simulation, also known as *in-situ visualization*. This can be useful to quickly check how a solution is developing over time, and is great for live demonstrations of a simulation. In its simplest form, you can create a `VisualizationCallback` only with the information in which frequency the results should be plotted, but it also allows to set formatting options:"
   ]
  },
  {
   "cell_type": "code",
   "execution_count": null,
   "metadata": {},
   "outputs": [],
   "source": [
    "visualization_callback = VisualizationCallback(interval=50, seriescolor=:heat);"
   ]
  },
  {
   "cell_type": "markdown",
   "metadata": {},
   "source": [
    "The visualization callback and the AMR callback are combined into a `CallbackSet` and then passed to the `solve` method as before:"
   ]
  },
  {
   "cell_type": "code",
   "execution_count": null,
   "metadata": {},
   "outputs": [],
   "source": [
    "callback_set = CallbackSet(visualization_callback, amr_callback)\n",
    "\n",
    "# Create and solve ODE problem, using the previously constructed callback set\n",
    "ode = semidiscretize(semi, (0.0, 1.7));\n",
    "sol = solve(ode, CarpenterKennedy2N54(williamson_condition=false), callback=callback_set, dt=6.25e-3);"
   ]
  },
  {
   "cell_type": "markdown",
   "metadata": {},
   "source": [
    "In a simulation started from the REPL, the `VisualizationCallback` will not create seven individual images but open a single window that gets updated with each new plot as it is generated (see, e.g., this [YouTube video](https://www.youtube.com/watch?v=UZtrqeDY1Fs)). The full elixir including adaptive mesh refinement and in-situ visualization is available at [examples/elixir_advection_amr_visualization.jl](examples/elixir_advection_amr_visualization.jl)."
   ]
  },
  {
   "cell_type": "markdown",
   "metadata": {},
   "source": [
    "## Advanced usage"
   ]
  },
  {
   "cell_type": "markdown",
   "metadata": {},
   "source": [
    "In the following, we will introduce some of the more advanced features in Trixi (advanced in the sense that they go beyond basic functionality, not that they are particularly complicated to use)."
   ]
  },
  {
   "cell_type": "markdown",
   "metadata": {},
   "source": [
    "### Analyzing the solution"
   ]
  },
  {
   "cell_type": "markdown",
   "metadata": {},
   "source": [
    "Oftentimes it is desireable to analyze a running simulation quantitatively by calculating integral quantities on the fly, which can be achieved by creating an `AnalysisCallback`. By default, it computes the $L^2$ and $L^\\infty$ errors and prints it to the terminal (we have seen an example of this in the [Quickstart](#Quickstart) section above). This can be extended to other built-in or user-provided integral quantities, such as the entropy time derivative $\\partial S/\\partial u \\cdot \\partial u/\\partial t$, the conservation error, or the total kinetic energy.\n",
    "\n",
    "In the following, we will create and `AnalysisCallback` that performs a solution analysis every 20 time steps, additionally computes the conservation error, and saves everything to a file (in addition to showing it on the terminal):"
   ]
  },
  {
   "cell_type": "code",
   "execution_count": null,
   "metadata": {},
   "outputs": [],
   "source": [
    "analysis_callback = AnalysisCallback(semi,\n",
    "                                     interval=20,\n",
    "                                     extra_analysis_errors=(:conservation_error,),\n",
    "                                     save_analysis=true);"
   ]
  },
  {
   "cell_type": "markdown",
   "metadata": {},
   "source": [
    "Since the $L^2$ and $L^\\infty$ errors are computed with respect to the (time-resolved) initial condition function, we will again use the  fully periodic`initial_condition_convergence_test` to initialize the solution. We will also use a static mesh again."
   ]
  },
  {
   "cell_type": "code",
   "execution_count": null,
   "metadata": {},
   "outputs": [],
   "source": [
    "# Create semidiscretization with a fully periodic initial condition\n",
    "semi = SemidiscretizationHyperbolic(mesh_static, equations, initial_condition_convergence_test, solver)\n",
    "\n",
    "# Create and solve ODE problem\n",
    "ode = semidiscretize(semi, (0.0, 1.0));\n",
    "sol = solve(ode, CarpenterKennedy2N54(williamson_condition=false), callback=analysis_callback, dt=2.5e-2);"
   ]
  },
  {
   "cell_type": "markdown",
   "metadata": {},
   "source": [
    "Besides the errors and analysis quantities, the `AnalysisCallback` also prints out additional information on the running simulation such as the current simulation time and some performance metrics. The requested analysis data was also written to `out/analysis.dat`:"
   ]
  },
  {
   "cell_type": "code",
   "execution_count": null,
   "metadata": {},
   "outputs": [],
   "source": [
    "print(read(joinpath(\"out\", \"analysis.dat\"), String))"
   ]
  },
  {
   "cell_type": "markdown",
   "metadata": {},
   "source": [
    "### Running convergence tests"
   ]
  },
  {
   "cell_type": "markdown",
   "metadata": {},
   "source": [
    "When developing new numerical methods, a common part of the workflow is the check if the implemented scheme still exhibits the expected order of convergence (EOC) for mesh refinement. Trixi has a helper function `convergence_test(...)`, which re-runs a given elixir multiple times, each time increasing the mesh resolution by one. For this, we will again use the default example elixir provided by Trixi.\n",
    "\n",
    "*Note:* Since changing the mesh resolution also affects the allowed time step through the CFL condition, `convergence_test(...)` requires the elixir to use a [StepsizeCallback](https://trixi-framework.github.io/Trixi.jl/stable/reference-trixi/#Trixi.StepsizeCallback) to automatically compute the explicit time step."
   ]
  },
  {
   "cell_type": "code",
   "execution_count": null,
   "metadata": {
    "scrolled": true
   },
   "outputs": [],
   "source": [
    "# Run convergence test with default example and 3 different mesh refinement levels\n",
    "convergence_test(default_example(), 3);"
   ]
  },
  {
   "cell_type": "markdown",
   "metadata": {},
   "source": [
    "### Visualizing the spectrum"
   ]
  },
  {
   "cell_type": "markdown",
   "metadata": {},
   "source": [
    "Trixi contains a method `linear_structure` that wraps the right-hand side operator of a semidiscretization as a linear operator. This can then be used to plot the spectrum for, e.g., the discretization of the scalar advection equation:"
   ]
  },
  {
   "cell_type": "code",
   "execution_count": null,
   "metadata": {},
   "outputs": [],
   "source": [
    "# Include an elixir to quickly obtain an appropriate semi discretization\n",
    "trixi_include(joinpath(\"examples\", \"elixir_advection_simple.jl\"), initial_refinement_level=2)\n",
    "\n",
    "# Get linear operator\n",
    "A, b = linear_structure(semi)\n",
    "\n",
    "# Compute eigenvalues\n",
    "using LinearAlgebra # Contains `eigvals` to compute the eigenvalues (part of Julia)\n",
    "λ = eigvals(Matrix(A))\n",
    "\n",
    "# Plot eigenvalues in complex plane\n",
    "plot(real(λ), imag(λ), seriestype=:scatter, xlims=(-40,5), ylims=(-30,30), legend=nothing)"
   ]
  },
  {
   "cell_type": "markdown",
   "metadata": {},
   "source": [
    "Similarly, to analyse the spectrum of non-linear operators we can use `jacobian_fd`, which uses second-order finite differences to compute the Jacobian `J` of the operator. Here we use the elixir [examples/elixir_euler_simple.jl](examples/elixir_euler_simple.jl), which is a simplified version of an elixir for the compressible Euler equations that also comes packaged with Trixi:"
   ]
  },
  {
   "cell_type": "code",
   "execution_count": null,
   "metadata": {},
   "outputs": [],
   "source": [
    "# Include an elixir to quickly obtain an appropriate semi discretization\n",
    "trixi_include(joinpath(\"examples\", \"elixir_euler_simple.jl\"))\n",
    "\n",
    "# Determine Jacobian\n",
    "J = jacobian_fd(semi)\n",
    "\n",
    "# Compute eigenvalues\n",
    "λ = eigvals(J)\n",
    "\n",
    "# Plot eigenvalues in complex plane\n",
    "plot(real(λ), imag(λ), seriestype=:scatter, xlims=(-2,2), ylims=(-1000,1000), legend=nothing)"
   ]
  },
  {
   "cell_type": "markdown",
   "metadata": {},
   "source": [
    "### Postprocessing with Trixi2Vtk and ParaView"
   ]
  },
  {
   "cell_type": "markdown",
   "metadata": {},
   "source": [
    "So far we have only visualized the solutions ad-hoc using the `plots(...)` function of the `Plots` package. However, for a more in-depth solution analysis especially of 3D data, it is often helpful to rely on a proper visualization program. Trixi supports converting its solution files, which are created as HDF5 files by the [SaveSolutionCallback](https://trixi-framework.github.io/Trixi.jl/stable/reference-trixi/#Trixi.SaveSolutionCallback)), to VTK files that can be opened and visualized with [ParaView](https://www.paraview.org) or [VisIt](http://visit.llnl.gov). This functionality is available in the [Trixi2Vtk](https://github.com/trixi-framework/Trixi2Vtk.jl) package, which provides a `trixi2vtk(...)` function:"
   ]
  },
  {
   "cell_type": "code",
   "execution_count": null,
   "metadata": {},
   "outputs": [],
   "source": [
    "using Trixi2Vtk\n",
    "\n",
    "trixi2vtk(joinpath(\"out\", \"solution_000000.h5\"), output_directory=\"out\")"
   ]
  },
  {
   "cell_type": "markdown",
   "metadata": {},
   "source": [
    "This will create two files in the `out` directory, `solution_000000.vtu` and `solution_000000_celldata.vtu`. More information about how to use `trixi2vtk(...)` can be found in the [Trixi documentation](https://trixi-framework.github.io/Trixi.jl/stable/visualization/#Trixi2Vtk)."
   ]
  }
 ],
 "metadata": {
  "kernelspec": {
   "display_name": "Julia 1.5.3",
   "language": "julia",
   "name": "julia-1.5"
  },
  "language_info": {
   "file_extension": ".jl",
   "mimetype": "application/julia",
   "name": "julia",
   "version": "1.5.3"
  },
  "toc-autonumbering": false,
  "toc-showtags": false
 },
 "nbformat": 4,
 "nbformat_minor": 4
}
